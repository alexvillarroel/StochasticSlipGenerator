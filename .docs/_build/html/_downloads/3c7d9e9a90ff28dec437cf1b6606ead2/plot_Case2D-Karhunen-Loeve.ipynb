{
  "cells": [
    {
      "cell_type": "markdown",
      "metadata": {},
      "source": [
        "\n# Stochastic Slip generation - 2D Fault \nExample of Karhunen Loeve expansion for stochastic generation of Slip distribution    \n    \n"
      ]
    },
    {
      "cell_type": "code",
      "execution_count": null,
      "metadata": {
        "collapsed": false
      },
      "outputs": [],
      "source": [
        "# ## Caso 2D: Falla a lo largo de Chile Central\n\n# Implementando el teorema de Karhunen-Loeve, en este, caso a una matriz de correlaci\u00f3n que estar\u00e1 compuesta por:\n# ### $C_{ij}=exp(-(d_{strike}(i,j)/r_{strike})-(d_{dip}(i,j)/r_{dip}))  $\n# \n# En d\u00f3nde $d_{strike}(i,j)$ y $d_{dip}(i,j)$ son estimados de la distancia entre subfallas i y j en el strike y dip respectivamente, y $r_{strike}$ y r_{dip} son los largos de correlaci\u00f3n en cada direcci\u00f3n.\n# \n# Se define $d_{dip}(i,j)$ usando la diferencia en profundidad entre dos subfallas y el angulo de dip como\n# \n# $d_{dip}(i,j)=d_{depth}/sin(dip)$. Configurando $d_{strike}=\\sqrt{d_{ij}^2-d_{dip}(i,j)^2}$\n\n# Los largo de correlaci\u00f3n ser\u00e1n el 40% del largo y ancho de la falla.\n\n# ## Datos de la falla:\n# Largo = 500 km\n# Ancho = 200 km\nimport geostochpy\nimport numpy as np\nimport matplotlib.pyplot as plt\nimport pygmt\n\n\n# Se ingresan las cantidades de subfallas, a lo largo del dip y a lo largo del strike, nx y ny\n\n# In[2]:\n\n\nnx=18\nny=50\nwidth=180\nlength=500\ndx=width/nx\ndy=length/ny\n\n# Primero, se cargar\u00e1n lo datos del trench de Chile, para realizar una geometr\u00eda paralela a ella\n# \n# Tambi\u00e9n, se cargar\u00e1n los archivos de Slab2, que contienen los par\u00e1metros geom\u00e9tricos de la zona de subducci\u00f3n de Sudam\u00e9rica\n\n# In[3]:\n\n\nroute_trench = geostochpy.get_data('trench-chile.txt') # route to trench file\nlons_fosa, lats_fosa  = geostochpy.load_trench(route_trench)\n# load slab files\nslabdep,slabdip,slabstrike,slabrake=geostochpy.load_files_slab2(zone='south_america',rake=True)\n\n\n# Se realiza la falla a lo largo del trench, y se le da el valor m\u00e1s al norte de la falla. \n# \n# Luego, se deben tener las profundidades en cada subfalla, para ello se interpolan los datos de Slab2 con geostochpy.interp_slabtofault\n\n# In[4]:\n\n\nnorth=-29.5\nlons,lons_ep,lats,lats_ep=geostochpy.make_fault_alongtrench(lons_fosa,lats_fosa,north, nx,ny,width,length)\n[X_grid,Y_grid,dep,dip,strike,rake]=geostochpy.interp_slabtofault(lons,lats,nx,ny,slabdep,slabdip,slabstrike,slabrake)\n\n\n# ##### Se crea la matriz de slips medios con geostochpy.matriz_media(mean,dep)\n\n# In[15]:\n\n\n## Creation slip models\n# mean matrix\n#\nMw=9.0\nmedia,rigidez=geostochpy.media_slip(Mw,dx*1000,dy*1000,dep)\nleveque_taper=geostochpy.taper_LeVeque(dep,55000)\n# leveque_taper=leveque_taper/np.max(leveque_taper)\nvillarroel_taper=geostochpy.taper_except_trench_tukey(dep,alpha_dip=0.3,alpha_strike=0.3)\ntaper=leveque_taper*villarroel_taper\n# taper=geostochpy.taper_except_trench_tukey(dep,alpha_dip=0.6,alpha_strike=0.4,dip_taperfunc=geostochpy.taper_LeVeque,strike_taperfunc=geostochpy.tukey_window_equal)\n\nmu = geostochpy.matriz_medias_villarroel(media,taper)\n# matriz de covarianza\nC    = geostochpy.matriz_covarianza_optimized(dip, dep, X_grid, Y_grid,length*1000,width*1000)\n# for comcot simulation\nSlip=geostochpy.distribucion_slip(C, mu, 20)\nSlip,rigidez,Mo_original,Mo_deseado=geostochpy.escalar_magnitud_momento(Mw, Slip, dep, dy*1000, dx*1000,prem=True) # se escala el Slip a la magnitud deseada <--------- Slip final\n# Hypocenter=geostochpy.hypocenter(X_grid,Y_grid,dep,length,width) se tiene en cuenta la rigidez con el modelo PREM incluido @fetched with Rockhound\n\n# PLOT result\ngeostochpy.plot_slip_gmt([-78,-68,-38,-28],X_grid,Y_grid,lons_fosa,lats_fosa,Slip,10,10)\n# geostochpy.plot_slip(X_grid,Y_grid,lons_fosa,lats_fosa,Slip,None,show=True)\n# plt.imshow(taper_2d)\n# plt.colorbar()\n# fig.subplots_adjust(left=1, right=1.1, top=1.1, bottom=1)\n# ax2=fig.add_subplot(122)\n# im2=ax2.imshow(taper_2d)\n# ax2.set_title('Taper 2d')\n# # add space for colour bar\n# fig.subplots_adjust(left=-0.5, right=1.1)\n# cbar_ax = fig.add_axes([0.88, 0.15, 0.04, 0.7])\n# fig.colorbar(im2, cax=cbar_ax)\n# fig.show()"
      ]
    }
  ],
  "metadata": {
    "kernelspec": {
      "display_name": "Python 3",
      "language": "python",
      "name": "python3"
    },
    "language_info": {
      "codemirror_mode": {
        "name": "ipython",
        "version": 3
      },
      "file_extension": ".py",
      "mimetype": "text/x-python",
      "name": "python",
      "nbconvert_exporter": "python",
      "pygments_lexer": "ipython3",
      "version": "3.11.7"
    }
  },
  "nbformat": 4,
  "nbformat_minor": 0
}