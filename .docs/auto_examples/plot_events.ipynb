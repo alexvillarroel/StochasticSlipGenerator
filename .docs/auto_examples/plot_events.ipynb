{
  "cells": [
    {
      "cell_type": "markdown",
      "metadata": {},
      "source": [
        "\n# Seismicity Chile 2011-2024 \n    Draw a GmtrFigure for the seismicity in Chile .\n    \n"
      ]
    },
    {
      "cell_type": "code",
      "execution_count": null,
      "metadata": {
        "collapsed": false
      },
      "outputs": [],
      "source": [
        "from obspy import read_events\nimport requests\nimport pandas as pd\nfrom datetime import datetime\nimport pygmt\nimport matplotlib as plt\nimport geostochpy\n\n# Definir la URL \"de la API del USGS\nurl = 'https://earthquake.usgs.gov/fdsnws/event/1/query'\n\n# Par\u00e1metros de la consulta con coordenadas para Chile\nparams = {\n    'format': 'geojson',\n    'starttime': '2011-01-01',\n    'endtime': '2024-01-01',\n    'minlatitude': -56.0,\n    'maxlatitude': -17.5,\n    'minlongitude': -75.0,\n    'maxlongitude': -66.0,\n    'minmagnitude': 4.0,\n    'orderby': 'time',\n}\n\n# Realizar la solicitud GET a la API del USGS\nresponse = requests.get(url, params=params)\ndata = response.json()\n\n# Extraer informaci\u00f3n relevante de los sismos\nearthquakes = []\nfor event in data['features']:\n    date = datetime.utcfromtimestamp(event['properties']['time'] / 1000.0)\n    magnitude = event['properties']['mag']\n    depth = event['geometry']['coordinates'][2]\n    latitude = event['geometry']['coordinates'][1]\n    longitude = event['geometry']['coordinates'][0]\n    \n    earthquakes.append({\n        'Fecha': date,\n        'Magnitud': magnitude,\n        'Profundidad': depth,\n        'Latitud': latitude,\n        'Longitud': longitude,\n    })\n\n# Crear un DataFrame con los datos y guardar en un archivo CSV\ndf = pd.DataFrame(earthquakes)\ndf.to_csv('sismos_chile.csv', index=False)\ndf = pd.read_csv('sismos_chile.csv', parse_dates=['Fecha'])\n\n# Cargar datos desde el archivo CSV\ndf = pd.read_csv('sismos_chile.csv', parse_dates=['Fecha'])\n\n# Crear un objeto de figura de PyGMT\n# Crear un objeto de figura de PyGMT\nfig = pygmt.Figure()\n\n# Configurar el marco del mapa\nfig.basemap(region=[-80, -69, -40, -27], projection='M12c', frame='ag')\nfig.coast(shorelines=True, resolution='10m', water='skyblue', land='lightgray', borders=[1,2])\n# fig.grdimage(grid='@earth_relief_01m', cmap='geo', shading=True, projection='M6i', frame=True)\n# Crear una paleta de colores seg\u00fan la magnitud de los sismos\npygmt.makecpt(cmap=\"viridis\", series=[df['Profundidad'].min(), df['Profundidad'].max(),25],continuous=False)\n# Superponer el mapa de relieve del agua con sombreado\n# Agregar eventos s\u00edsmicos como puntos en el mapa con colores distintos por magnitud\nfig.plot(\n    x=df['Longitud'].to_list(),\n    y=df['Latitud'].to_list(),\n    size=0.02 * 2 ** df['Magnitud'],\n    fill=df['Profundidad'].to_list(),\n    cmap=True,\n    style='c0.2c',\n    label='Sismos en Chile',\n)\n# add fosa\nroute_trench = geostochpy.get_data('trench-chile.txt')\nlons_fosa, lats_fosa  = geostochpy.load_trench(route_trench)\nfig.plot(\n    x=lons_fosa,\n    y=lats_fosa,\n    region=[-80, -69, -40, -27],\n    pen=\"0.2p\",\n    fill=\"white\",\n    style=\"f0.5i/0.1i+r+t+o1\")\n#\n# Configurar etiquetas y t\u00edtulo\nfig.text(\n    x=0,\n    y=0,\n    text='Magnitud',\n    font='12p,Helvetica,black',\n    justify='ML',\n)\nfig.text(\n    x=0,\n    y=-2,\n    text='Sismos en Chile (2010-2024)',\n    font='16p,Helvetica-Bold,black',\n    justify='ML',\n)\nfig.colorbar(position=\"g-79/-39.5+w8c/0.5c+v\",\n    box='+ggray+pblack',frame='af+l\"Depth (km)\"')\n\n# Guardar el mapa como imagen\nfig.savefig('mapa_sismos_chile_relieve.png')\n\n# Mostrar el mapa en la ventana si est\u00e1s ejecutando este c\u00f3digo en un entorno interactivo\nfig.show()"
      ]
    }
  ],
  "metadata": {
    "kernelspec": {
      "display_name": "Python 3",
      "language": "python",
      "name": "python3"
    },
    "language_info": {
      "codemirror_mode": {
        "name": "ipython",
        "version": 3
      },
      "file_extension": ".py",
      "mimetype": "text/x-python",
      "name": "python",
      "nbconvert_exporter": "python",
      "pygments_lexer": "ipython3",
      "version": "3.11.7"
    }
  },
  "nbformat": 4,
  "nbformat_minor": 0
}