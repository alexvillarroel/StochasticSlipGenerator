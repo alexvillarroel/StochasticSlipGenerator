{
  "cells": [
    {
      "cell_type": "markdown",
      "metadata": {},
      "source": [
        "\n# Stochastic Slip generation - 1D Fault \n    Function to plot the 2D cross - product of the two - sided LaTeX .\n\n    :return: [description]\n    :rtype: [type]\n    \n"
      ]
    },
    {
      "cell_type": "code",
      "execution_count": null,
      "metadata": {
        "collapsed": false
      },
      "outputs": [],
      "source": [
        "# # Cuaderno 1: Explicaci\u00f3n del proceso estoc\u00e1stico con transformada de Karhunen-Lo\u00e9ve\n# ### Caso 1D: Falla con variaciones de slip a lo largo del dip (along down-dip)\n# Ejemplo de referencia: R. J LeVeque et al. 2016\n# \n# #### Teorema K-L\n# \n# ### $X_t=\\sum_{k=1}^\\infty Z_ke_k(t)$\n# \n# ### Para la generaci\u00f3n estoc\u00e1stica de Slips:\n# # $Slip=\\mu+\\sum_{k=1}^Nz_k\\sqrt{\\lambda_k}v_k$\n# \n# Una analog\u00eda puede ser la serie de fourier\n# \n# $F(t) = a_0 + \\sum_{n=1}^{\\infty} \\left( a_n \\cos\\left(\\frac{2\\pi n t}{T}\\right) + b_n \\sin\\left(\\frac{2\\pi n t}{T}\\right) \\right)$\n\n# Importamos los paquetes necesarios, es decir, main\n\n# In[291]:\n\n\nimport sys\nimport geostochpy\nimport numpy as np\nimport matplotlib.pyplot as plt\n\n\n# Primero, crearemos un ejercicio en donde nos importa la variaci\u00f3n del Slip a lo largo del dip.\n# Trabajando en un espacio de coordenadas X-Y, La variaci\u00f3n ser\u00eda a lo largo de X.\n# Estableceremos, para este caso, 200 Subfallas (Particularmente alto), para un espacio (Ancho) de 100 km.\n# lo que cada subfalla tendr\u00eda \n# \n# $N*dx=Ancho$ , $dx=\\frac{Ancho}{N}=\\frac{100}{200}=0.5km$ \n# \n# Adem\u00e1s, se asumir\u00e1 que la falla presenta un dip de $13\\degree$, y una magnitud de momento de 9.0, una rigidez constante (por simplicidad) de 3.55e10 N*m\n# \n# Las profundidades de cada subfalla tambi\u00e9n deben ser definidas, para este ejemplo ser\u00e1 lineal desde 5000 m hasta 22500 m\n# \n\n# In[292]:\n\n\nx=np.linspace(0,100,200) # Posici\u00f3n de cada subfalla en eje X\ny=np.ones((200,1)) # Posici\u00f3n de cada subfalla en eje Y\n# propiedades de la falla\ndip=13*np.ones((200,1))\nrigidez=3.55e10*np.ones((200,1))\nancho=100\nprofundidades= np.linspace(5000,22500,200)\n\n\n# Definimos algunas funciones ...\n\n# In[294]:\n\n\ntaper=geostochpy.taper_LeVeque(profundidades,22000)\nplt.plot(profundidades,taper)\nplt.xlabel('Profundidad a lo largo del dip')\nplt.ylabel('Taper')\n\n\n# Definimos la matriz de covarianza $\\hat{C}_{ij} =\\sigma_i \\sigma_j C_{ij}$ en donde $\\sigma_i=\\alpha \\mu_i$ para algun escalar $\\alpha \\in \\mathbb{R}$, y C es la matriz de correlaci\u00f3n. Ya que $\\alpha$ escala la desviacion estandar relativa al promedio, con 0.75 se asegura que el slip se mantenga positivo en donde sea. Se define la matriz de correlaci\u00f3n como \n# \n# $C_{ij}=corr(|x_i-x_j|)$, en terminos de alguna funcion de autocorrelacion corr(r), en donde se eligi\u00f3:\n# \n# $ corr(r)=exp(-r/r_o)$\n\n# El autor propone un alpha de 0.75, y el slip promedio es ponderado por el taper, por ejemplo, daremos una media de 10 m.\n\n# In[332]:\n\n\ndef corr_1d_Leveque(x,r_0):\n    matrix_corr=np.ones((x.size,x.size))\n    for i in range(x.size):\n        for j in range(x.size):\n            r=np.abs(x[i]-x[j])\n            matrix_corr[i,j]=np.exp(-r/r_0)\n    return matrix_corr\n\ndef cov_1d_Leveque(corr_matrix,alpha,mean_slip):\n    matrix_cov=np.ones((corr_matrix.shape[0],corr_matrix.shape[1]))\n    for i in range(corr_matrix.shape[0]):\n        for j in range(corr_matrix.shape[1]):\n            matrix_cov[i,j]=alpha**2*mean_slip[i]*mean_slip[j]*corr_matrix[i,j]\n    return matrix_cov\n\n\n# In[357]:\n\n\nr_0=0.4*ancho # en km\nMatriz_correlacion=corr_1d_Leveque(x,r_0)\n\n#\nmean_slip=1*np.ones((x.size,1)).T\nmean_slip=(mean_slip*taper).flatten()\n#\nmatriz_covarianza=cov_1d_Leveque(Matriz_correlacion,0.75,mean_slip)\neigen_valores,eigen_vectores=np.linalg.eig(matriz_covarianza)\n\n# obtenemos los primero 20 valores\neigen_valores20,eigen_vectores20=eigen_valores[0:19],eigen_vectores[:,0:19]\nfig,axes=plt.subplots(2,1)\naxes[0].loglog(eigen_valores20,'o')\naxes[0].set_xlabel('Eigenvalores')\naxes[0].set_title('First 20 eigenvalues of Covariance matrix')\n\n#\naxes[1].plot(x,taper,'--',label='taper')\nfor i in range(5):\n    axes[1].plot(x,eigen_vectores20[:,i]/np.max(eigen_vectores20[:,i]),label=f'k={i}',marker='.',linewidth=0,markersize=2)\n    \n\naxes[1].legend(bbox_to_anchor=(1.05, 1), loc='upper left')\naxes[1].set_xlabel('km down-dip')\naxes[1].set_title('Eigenmodes')\naxes[1].set_ylim((-1.1,1.1))\n\nfig.show()\n# Se puede ver La alta similitud del eigenvector cuando k=0 con el taper\n\n# In[ ]:"
      ]
    }
  ],
  "metadata": {
    "kernelspec": {
      "display_name": "Python 3",
      "language": "python",
      "name": "python3"
    },
    "language_info": {
      "codemirror_mode": {
        "name": "ipython",
        "version": 3
      },
      "file_extension": ".py",
      "mimetype": "text/x-python",
      "name": "python",
      "nbconvert_exporter": "python",
      "pygments_lexer": "ipython3",
      "version": "3.11.7"
    }
  },
  "nbformat": 4,
  "nbformat_minor": 0
}