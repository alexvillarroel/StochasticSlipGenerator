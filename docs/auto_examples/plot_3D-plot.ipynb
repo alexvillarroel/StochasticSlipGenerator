{
  "cells": [
    {
      "cell_type": "markdown",
      "metadata": {},
      "source": [
        "\n# 3D Slip Figure of a Stochastic generation\n    This example makes an 3d plot of Slip distribution\n    :param X_array: Longitude grid\n    :param Y_array: Latitude grid\n    :param depth: Depth grid\n    :param Slip: Slip grid\n    :param filename: Optional, filename if you wanna save fig\n    :return: 3D Figure of Slip distribution\n    \n"
      ]
    },
    {
      "cell_type": "code",
      "execution_count": null,
      "metadata": {
        "collapsed": false
      },
      "outputs": [],
      "source": [
        "import numpy as np\nimport matplotlib.pyplot as plt\nimport scipy.io\nfrom matplotlib import cm\nfrom matplotlib.ticker import LinearLocator\nfrom matplotlib.colors import ListedColormap, Normalize\nimport geostochpy\ndef plot_3d(X_array,Y_array,depth,Slip,filename=None):\n    \n    fig = plt.figure()\n    ax = fig.add_subplot(111, projection='3d')\n    # Plot the surface with face colors taken from the array we made.\n    surf = ax.plot_surface(X_array,Y_array, depth, facecolors=cm.rainbow(Slip/np.max(Slip.flatten())), linewidth=0)\n    # Customize the z axis.\n    # Agregar barra de colores con el rango correcto\n    norm = plt.Normalize(np.min(Slip.flat), np.max(Slip.flat))\n    sm = plt.cm.ScalarMappable(cmap=plt.cm.rainbow, norm=norm)\n    sm.set_array([])  # este paso es necesario para que la barra de colores refleje correctamente los valores\n    plt.title('Slip_0004_Simulation')\n    # Configurar etiquetas\n    ax.set_xlabel('Longitude')\n    ax.set_ylabel('Latitude')\n    ax.set_zlabel('Depth')\n    cbar = fig.colorbar(sm, ax=ax, pad=0.1)\n    cbar.set_label('Slip[m]')\n    # Configurar posici\u00f3n de la barra de colores\n    cbar.ax.yaxis.set_label_position('right')  # Puedes ajustar la posici\u00f3n seg\u00fan tus necesidades\n    if filename!=None:\n        fig.savefig(filename)\n    return plt.show()\n\n\nnx=18\nny=50\nwidth=180\nlength=500\ndx=width/nx\ndy=length/ny\n\n# Primero, se cargar\u00e1n lo datos del trench de Chile, para realizar una geometr\u00eda paralela a ella\n# \n# Tambi\u00e9n, se cargar\u00e1n los archivos de Slab2, que contienen los par\u00e1metros geom\u00e9tricos de la zona de subducci\u00f3n de Sudam\u00e9rica\n\n# In[3]:\n\n\nroute_trench = geostochpy.get_data('trench-chile.txt') # route to trench file\nlons_fosa, lats_fosa  = geostochpy.load_trench(route_trench)\n# load slab files\nslabdep,slabdip,slabstrike,slabrake=geostochpy.load_files_slab2(zone='south_america',rake=True)\n\n\n# Se realiza la falla a lo largo del trench, y se le da el valor m\u00e1s al norte de la falla. \n# \n# Luego, se deben tener las profundidades en cada subfalla, para ello se interpolan los datos de Slab2 con geostochpy.interp_slabtofault\n\n# In[4]:\n\n\nnorth=-29.5\nlons,lons_ep,lats,lats_ep=geostochpy.make_fault_alongtrench(lons_fosa,lats_fosa,north, nx,ny,width,length)\n[X_grid,Y_grid,dep,dip,strike,rake]=geostochpy.interp_slabtofault(lons,lats,nx,ny,slabdep,slabdip,slabstrike,slabrake)\n\n\n# ##### Se crea la matriz de slips medios con geostochpy.matriz_media(mean,dep)\n\n# In[15]:\n#\n## Creation slip models\n# mean matrix\n#\nMw=9.0\nmedia,rigidez=geostochpy.media_slip(Mw,dx*1000,dy*1000,dep)\nleveque_taper=geostochpy.taper_LeVeque(dep,55000)\n# leveque_taper=leveque_taper/np.max(leveque_taper)\nvillarroel_taper=geostochpy.taper_except_trench_tukey(dep,alpha_dip=0.3,alpha_strike=0.3)\ntaper=leveque_taper*villarroel_taper\n# taper=geostochpy.taper_except_trench_tukey(dep,alpha_dip=0.6,alpha_strike=0.4,dip_taperfunc=geostochpy.taper_LeVeque,strike_taperfunc=geostochpy.tukey_window_equal)\n\nmu = geostochpy.matriz_medias_villarroel(media,taper)\n# matriz de covarianza\nC    = geostochpy.matriz_covarianza_optimized(dip, dep, X_grid, Y_grid,length*1000,width*1000)\n# for comcot simulation\nSlip=geostochpy.distribucion_slip(C, mu, 20)\nSlip,rigidez,Mo_original,Mo_deseado=geostochpy.escalar_magnitud_momento(Mw, Slip, dep, dy*1000, dx*1000,prem=True) # se escala el Slip a la magnitud deseada <--------- Slip final\n# Hypocenter=geostochpy.hypocenter(X_grid,Y_grid,dep,length,width) se tiene en cuenta la rigidez con el modelo PREM incluido @fetched with Rockhound\n\nplot_3d(X_grid,Y_grid,-1*dep,Slip)"
      ]
    }
  ],
  "metadata": {
    "kernelspec": {
      "display_name": "Python 3",
      "language": "python",
      "name": "python3"
    },
    "language_info": {
      "codemirror_mode": {
        "name": "ipython",
        "version": 3
      },
      "file_extension": ".py",
      "mimetype": "text/x-python",
      "name": "python",
      "nbconvert_exporter": "python",
      "pygments_lexer": "ipython3",
      "version": "3.11.7"
    }
  },
  "nbformat": 4,
  "nbformat_minor": 0
}