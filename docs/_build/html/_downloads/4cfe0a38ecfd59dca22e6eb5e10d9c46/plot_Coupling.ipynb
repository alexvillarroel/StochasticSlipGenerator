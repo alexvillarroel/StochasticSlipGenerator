{
  "cells": [
    {
      "cell_type": "markdown",
      "metadata": {},
      "source": [
        "\n# Coupling figure - 2D Fault \n    Draw a GmtrFigure for the given lock model .\n    \n"
      ]
    },
    {
      "cell_type": "code",
      "execution_count": null,
      "metadata": {
        "collapsed": false
      },
      "outputs": [],
      "source": [
        "import pygmt\nimport numpy as np\nimport geostochpy\nimport rockhound as rh\nfile_trench=geostochpy.get_data('trench-chile.txt')\ntrench = np.genfromtxt( file_trench, delimiter = \" \" )\nlonfosa = trench[:,0]\nlatfosa = trench[:,1]\nregion=[-80,-69,-40,-27]\nregion2=[-76,-68,-36,-28]\nroute_file=geostochpy.get_data('median_lock_Herrera2023.txt')\nroute_file_mesh=geostochpy.get_data('mesh__Herrera2023.npy')\nmesh=np.load(route_file_mesh,allow_pickle=True)\nmedian_lock=np.loadtxt(route_file)\nmesh1=mesh[0]\nmesh1[0,0]-mesh1[1,0]\n#\ngrid=pygmt.xyz2grd(x=mesh1[:,0],y=mesh1[:,1],z=median_lock,region=region,spacing='0.1')\ngrid=pygmt.grdsample(grid=grid,region=region,spacing='0.005')\nregion=[-80,-69,-40,-27]\nregion2=[-76,-68,-36,-28]\nearth_grid = pygmt.datasets.load_earth_relief(resolution=\"30s\", region=region)\n#\nfig=pygmt.Figure()\nfig.basemap(region=region,projection='M12c',frame=['WSne','y1+laatitude(\u00b0)','x2+laongitude(\u00b0)','g'])\nfig.grdimage(grid=earth_grid,cmap='grayC',shading=True)\nfig.colorbar(cmap=True,frame=[\"x+lElevation\",\"y+lm\"],)\ncmap=pygmt.makecpt(cmap='hot',reverse=True,series=[0, 1, 0.1],continuous=False)\n# fig.coast(shorelines=True, area_thresh=5000,land=\"gray\")\n# valparaiso 1730\nfig.plot(x=[-77.6,-77.6],y=[-29,-36],fill='red',pen='2,red')\nfig.text(x=-78,y=-32.5,text='Valpara\u00edso 1730',fill='white',font=\"10p,Helvetica-Bold,black\",angle=90)\n# valparaiso 1751\nfig.plot(x=[-77,-77],y=[-34,-38.1],fill='red',pen='2,red')\nfig.text(x=-77.3,y=-36,text='Concepci\u00f3n 1751',fill='white',font=\"10p,Helvetica-Bold,black\",angle=90)\n\n# valparaiso 1985,1906,1822\nfig.plot(x=[-76,-76],y=[-32.5,-34.5],fill='red',pen='2,red')\nfig.text(x=-76.5,y=-33.5,text='Valparaiso 1822,1906,1985',fill='white',font=\"10p,Helvetica-Bold,black\",angle=90)\n#Illapel 2015,1943,1880\nfig.plot(x=[-75,-75],y=[-30,-31.6],fill='red',pen='2,red')\nfig.text(x=-75.5,y=-31,text='Illapel 1880,1943,2015',fill='white',font=\"10p,Helvetica-Bold,black\",angle=90)\n#Talca 1928\nfig.plot(x=[-74,-74],y=[-34.3,-35.5],fill='red',pen='2,red')\nfig.text(x=-74.5,y=-35,text='Talca 1928',fill='white',font=\"10p,Helvetica-Bold,black\",angle=90)\n#Atacama 1922\nfig.plot(x=[-74,-74],y=[-28,-30],fill='red',pen='2,red')\nfig.text(x=-74.5,y=-29,text='Atacama 1922',fill='white',font=\"10p,Helvetica-Bold,black\",angle=90)\n# Maule 2010\nfig.plot(x=[-75,-75],y=[-34,-38.1],fill='red',pen='2,red')\nfig.text(x=-75.5,y=-36,text='Maule 2010',fill='white',font=\"10p,Helvetica-Bold,black\",angle=90)\n# Concepcion 1835\nfig.plot(x=[-76,-76],y=[-35.2,-37.8],fill='red',pen='2,red')\nfig.text(x=-76.5,y=-37,text='Concepci\u00f3n 1835',fill='white',font=\"10p,Helvetica-Bold,black\",angle=90)\n\n##\nfig.grdimage(grid=grid,cmap=cmap,nan_transparent=True)\n# fig.grdimage(grid=file2,cmap=cmap,nan_transparent=True)\n#\ndepth_grid=rh.fetch_slab2('south_america').depth/-1000\nfig.grdcontour(grid=depth_grid,region=region,interval=20,annotation='40+e+f10p+gwhite')\nfig.coast(shorelines=\"2p,black\",borders=[\"1/0.5p,black\", \"2/0.5p,gray\", \"3/0.5p,blue\"])\n\nfig.plot(x=lonfosa,y=latfosa,\n        projection='M12c',\n        region=region,\n        pen=\"1p\",\n        fill=\"white\",\n        style=\"f0.5i/0.1i+r+t+o1\")\nfig.colorbar(\n    cmap=cmap,\n    # Colorbar positioned at map coordinates (g) longitude/latitude 0.3/8.7,\n    # with a length/width (+w) of 4 cm by 0.5 cm, and plotted horizontally (+h)\n    position=\"g-79.8/-39.8+w6c/0.5c+v\",\n    box='+ggray+pblack',\n    frame=[\"x+lLocking degree\"],\n)\n#cities\n#valparaiso\nfig.text(x=-71.3,y= -33.03,text='Valpara\u00edso',fill='white',justify='ML',pen=\"1p,black\")\nfig.plot(x=-71.63,y=-33.03,style='c0.2c',fill='white',pen=\"1p,black\")\n# la serena\nfig.text(x=-71.2,y= -30.03,text='La Serena',fill='white',justify='ML',pen=\"1p,black\")\nfig.plot(x=-71.4,y=-30.03,style='c0.2c',fill='white',pen=\"1p,black\")\n#santiago\nfig.text(x=-70.4,y= -33.45,text='Santiago',fill='white',justify='ML',pen=\"1p,black\")\nfig.plot(x=-70.6,y=-33.45,style='c0.2c',fill='white',pen=\"1p,black\")\n# talca\nfig.text(x=-71.6,y= -35.43,text='Talca',fill='white',justify='ML',pen=\"1p,black\")\nfig.plot(x=-71.8,y=-35.43,style='c0.2c',fill='white',pen=\"1p,black\")\n# concepcion\nfig.text(x=-72.8,y= -36.812,text='Concepci\u00f3n',fill='white',justify='ML',pen=\"1p,black\")\nfig.plot(x=-73.039,y=-36.812,style='c0.2c',fill='white',pen=\"1p,black\")\n\nfig.show()\nfig.savefig('Coupling.png')"
      ]
    }
  ],
  "metadata": {
    "kernelspec": {
      "display_name": "Python 3",
      "language": "python",
      "name": "python3"
    },
    "language_info": {
      "codemirror_mode": {
        "name": "ipython",
        "version": 3
      },
      "file_extension": ".py",
      "mimetype": "text/x-python",
      "name": "python",
      "nbconvert_exporter": "python",
      "pygments_lexer": "ipython3",
      "version": "3.11.8"
    }
  },
  "nbformat": 4,
  "nbformat_minor": 0
}