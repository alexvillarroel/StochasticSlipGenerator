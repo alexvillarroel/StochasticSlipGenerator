{
  "cells": [
    {
      "cell_type": "markdown",
      "metadata": {},
      "source": [
        "\n# Slip and deformation figure of a Stochastic generation\n    This example makes an 3d plot of Slip distribution\n    :param X_array: Longitude grid\n    :param Y_array: Latitude grid\n    :param depth: Depth grid\n    :param Slip: Slip grid\n    :param filename: Optional, filename if you wanna save fig\n    :return: Figure of Slip and deformation distribution\n"
      ]
    },
    {
      "cell_type": "code",
      "execution_count": null,
      "metadata": {
        "collapsed": false
      },
      "outputs": [],
      "source": [
        "import geostochpy\nimport matplotlib.pyplot as plt\nimport numpy as np\nfrom geostochpy import modokada as mo\n# shorelines\nshorelines_file = geostochpy.get_data('pacific_shorelines_east_4min.npy')\nshore = np.load(shorelines_file)\n#\nroute_trench = geostochpy.get_data('trench-chile.txt')\n# load trench\nlonfosa, latfosa  = geostochpy.load_trench(route_trench)\nnx=18\nny=50\nwidth=180\nlength=500\ndx=width/nx\ndy=length/ny\nregion=[-78,-68,-38,-28]\nslabdep,slabdip,slabstrike,slabrake=geostochpy.load_files_slab2(zone='south_america',rake=True)\n# Se realiza la falla a lo largo del trench, y se le da el valor m\u00e1s al norte de la falla. \n# \n# Luego, se deben tener las profundidades en cada subfalla, para ello se interpolan los datos de Slab2 con geostochpy.interp_slabtofault\nnorth=-29.5\nlons,lons_ep,lats,lats_ep=geostochpy.make_fault_alongtrench(lonfosa,latfosa,north, nx,ny,width,length)\n[X_grid,Y_grid,dep,dip,strike,rake]=geostochpy.interp_slabtofault(lons,lats,nx,ny,slabdep,slabdip,slabstrike,slabrake)\n# ##### Se crea la matriz de slips medios con geostochpy.matriz_media(mean,dep)\n## Creation slip models\n# mean matrix\nMw=9.0\nmedia,rigidez=geostochpy.media_slip(Mw,dx*1000,dy*1000,dep)\nleveque_taper=geostochpy.taper_LeVeque(dep,55000)\nvillarroel_taper=geostochpy.taper_except_trench_tukey(dep,alpha_dip=0.3,alpha_strike=0.3)\ntaper=leveque_taper*villarroel_taper\nmu = geostochpy.matriz_medias_villarroel(media,taper)\n# matriz de covarianza\nC    = geostochpy.matriz_covarianza_optimized(dip, dep, X_grid, Y_grid,length*1000,width*1000)\nSlip=geostochpy.distribucion_slip(C, mu, 20)\nSlip,rigidez,Mo_original,Mo_deseado=geostochpy.escalar_magnitud_momento(Mw, Slip, dep, dy*1000, dx*1000,prem=True) # se escala el Slip a la magnitud deseada <--------- Slip final\n# Hypocenter=geostochpy.hypocenter(X_grid,Y_grid,dep,length,width) se tiene en cuenta la rigidez con el modelo PREM incluido @fetched with Rockhound\ngeostochpy.plot_slip(X_grid,Y_grid,lonfosa,latfosa,Slip,'slip.png',show=True)\ndtopo = mo.okada_solucion_optimized( X_grid, Y_grid, 550/180, strike, dip, dep, rake, Slip, 550000, resolucion = 1/30., tamano_buffer = 1., verbose = False ) # calculo deformacion\ndeformation=dtopo.dZ_at_t(0)\nX_deformation=dtopo.X\nY_deformation=dtopo.Y\ngeostochpy.plot_deformation(X_deformation,Y_deformation,lonfosa,latfosa,deformation.reshape(X_deformation.shape),'deformation.png')\ndtopo.plot_dZ_colors(t=0,dZ_interval=1)\nplt.plot(shore[:,0]-360, shore[:,1], 'g')\nplt.plot(lonfosa,latfosa,'darkgreen')\nplt.axis(region)\nplt.grid(visible=True,axis='both')\nplt.plot(-71.63, -33.03,'o',color='gold')\nplt.text(-71.63, -33.03,'Valpara\u00edso',ha='left')\nplt.show()\n# dtopo.write(filename_def,dtopo_type=3)\n# geostochpy.plot_slip_gmt(region,X_grid,Y_grid,lonfosa,latfosa,Slip,dx,dy,filename)"
      ]
    }
  ],
  "metadata": {
    "kernelspec": {
      "display_name": "Python 3",
      "language": "python",
      "name": "python3"
    },
    "language_info": {
      "codemirror_mode": {
        "name": "ipython",
        "version": 3
      },
      "file_extension": ".py",
      "mimetype": "text/x-python",
      "name": "python",
      "nbconvert_exporter": "python",
      "pygments_lexer": "ipython3",
      "version": "3.11.7"
    }
  },
  "nbformat": 4,
  "nbformat_minor": 0
}