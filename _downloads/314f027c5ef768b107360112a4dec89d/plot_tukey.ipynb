{
  "cells": [
    {
      "cell_type": "markdown",
      "metadata": {},
      "source": [
        "\n# Tukey Filter - 2D Fault \n    Generate a Tukey window\n\n    :return: [description]\n    :rtype: [type]\n    \n"
      ]
    },
    {
      "cell_type": "code",
      "execution_count": null,
      "metadata": {
        "collapsed": false
      },
      "outputs": [],
      "source": [
        "import numpy as np\nimport matplotlib.pyplot as plt\n\ndef tukey_window(N, alpha=0.5):\n    \"\"\"\n    Genera una ventana Tukey.\n\n    Par\u00e1metros:\n    - N: Longitud de la ventana.\n    - alpha: Par\u00e1metro de apertura (0 para una ventana rectangular, 1 para una ventana Hann).\n\n    Retorna:\n    - Ventana Tukey.\n    \"\"\"\n    if alpha <= 0:\n        return np.ones(N)\n    elif alpha >= 1:\n        return np.hanning(N)\n    else:\n        x = np.linspace(0, 1, N, endpoint=False)\n        w = np.ones_like(x)\n\n        # Aplica la parte de la ventana Hann\n        first_condition = x < alpha / 2\n        last_condition = x >= 1 - alpha / 2\n\n        w[first_condition] = 0.5 * (1 + np.cos(2 * np.pi / alpha * (x[first_condition] - alpha / 2)))\n        w[last_condition] = 0.5 * (1 + np.cos(2 * np.pi / alpha * (x[last_condition] - 1 + alpha / 2)))\n\n        # Ajusta los valores para que no alcancen completamente cero al comienzo y al final\n        w[first_condition] = 0.5 + 0.5 * w[first_condition]\n        w[last_condition] = 0 + 1 * w[last_condition]\n\n        return w\n\n# Ejemplo de uso\nN = 100\nalpha = 0.4\ntukey = tukey_window(N, alpha)\n\n# Visualizaci\u00f3n de la ventana Tukey\nplt.plot(tukey)\nplt.title(f'Tukey Window (alpha={alpha})')\nplt.xlabel('Muestras')\nplt.ylabel('Amplitud')\nplt.show()"
      ]
    }
  ],
  "metadata": {
    "kernelspec": {
      "display_name": "Python 3",
      "language": "python",
      "name": "python3"
    },
    "language_info": {
      "codemirror_mode": {
        "name": "ipython",
        "version": 3
      },
      "file_extension": ".py",
      "mimetype": "text/x-python",
      "name": "python",
      "nbconvert_exporter": "python",
      "pygments_lexer": "ipython3",
      "version": "3.11.7"
    }
  },
  "nbformat": 4,
  "nbformat_minor": 0
}