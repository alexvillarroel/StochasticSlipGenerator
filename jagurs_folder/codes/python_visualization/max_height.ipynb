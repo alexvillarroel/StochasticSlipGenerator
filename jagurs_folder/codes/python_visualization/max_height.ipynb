{
 "cells": [
  {
   "cell_type": "code",
   "execution_count": 4,
   "metadata": {},
   "outputs": [],
   "source": [
    "import pygmt\n",
    "import netCDF4 as nc\n",
    "import numpy as np\n",
    "import xarray as xr\n",
    "\n",
    "# Abrir el archivo NetCDF\n",
    "dataset = nc.Dataset('/home/alex/Tsunamis/template/SD01.nc')\n",
    "\n",
    "# Obtener las variables\n",
    "lon = dataset.variables['lon'][:]\n",
    "lat = dataset.variables['lat'][:]\n",
    "wave_height = dataset.variables['wave_height']  # wave height en todas las dimensiones (lon, lat, time)\n",
    "\n",
    "# Seleccionar el primer momento en el tiempo para graficar\n",
    "wave_height_at_time = wave_height[:, :, 0]  # Por ejemplo, el primer índice de tiempo\n",
    "\n",
    "# Convertir a matriz de NumPy (en caso de que sea una MaskedArray)\n",
    "wave_height_at_time = np.array(wave_height_at_time)\n",
    "\n",
    "# Asegurarse de que lon y lat tengan las mismas dimensiones que los datos de wave_height\n",
    "lon, lat = np.meshgrid(lon, lat)\n",
    "\n",
    "# Crear un DataArray de xarray para que PyGMT pueda manejarlo como una cuadrícula\n"
   ]
  },
  {
   "cell_type": "code",
   "execution_count": null,
   "metadata": {},
   "outputs": [],
   "source": [
    "\n",
    "# Crear la figura\n",
    "fig = pygmt.Figure()\n",
    "\n",
    "# Definir la región y proyección\n",
    "region = [lon.min(), lon.max(), lat.min(), lat.max()]\n",
    "projection = 'M6i'\n",
    "\n",
    "# Crear la paleta de colores\n",
    "pygmt.makecpt(cmap='viridis', series=[wave_height_at_time.min(), wave_height_at_time.max()])\n",
    "\n",
    "# Graficar los datos\n",
    "fig.basemap(region=region, projection=projection, frame=True)\n",
    "fig.grdimage(grid=grid, region=region, projection=projection, cmap='viridis')\n",
    "fig.colorbar(frame='af+l\"Wave height (m)\"')\n",
    "\n",
    "# Mostrar la figura\n",
    "fig.show()\n",
    "\n",
    "# Cerrar el archivo NetCDF\n",
    "dataset.close()\n"
   ]
  }
 ],
 "metadata": {
  "kernelspec": {
   "display_name": "geostochpy",
   "language": "python",
   "name": "python3"
  },
  "language_info": {
   "codemirror_mode": {
    "name": "ipython",
    "version": 3
   },
   "file_extension": ".py",
   "mimetype": "text/x-python",
   "name": "python",
   "nbconvert_exporter": "python",
   "pygments_lexer": "ipython3",
   "version": "3.11.9"
  }
 },
 "nbformat": 4,
 "nbformat_minor": 2
}
